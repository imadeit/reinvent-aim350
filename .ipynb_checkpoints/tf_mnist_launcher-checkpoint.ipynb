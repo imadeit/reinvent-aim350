{
 "cells": [
  {
   "cell_type": "markdown",
   "metadata": {},
   "source": [
    "# AWS re:Invent 2018 AIM350\n",
    "\n",
    "## TensorFlow training script launcher"
   ]
  },
  {
   "cell_type": "code",
   "execution_count": 1,
   "metadata": {},
   "outputs": [],
   "source": [
    "import sagemaker\n",
    "from sagemaker.tensorflow import TensorFlow\n",
    "from sagemaker import get_execution_role"
   ]
  },
  {
   "cell_type": "markdown",
   "metadata": {},
   "source": [
    "### Define sagemaker Sessoin and Role"
   ]
  },
  {
   "cell_type": "code",
   "execution_count": 3,
   "metadata": {},
   "outputs": [],
   "source": [
    "sagemaker_session = sagemaker.Session()\n",
    "role = get_execution_role()"
   ]
  },
  {
   "cell_type": "markdown",
   "metadata": {},
   "source": [
    "### Define S3 bucket and prefix for datasets and models"
   ]
  },
  {
   "cell_type": "code",
   "execution_count": 2,
   "metadata": {},
   "outputs": [],
   "source": [
    "s3_bucket = 'mh-s3-icn-sagemaker'\n",
    "s3_prefix = 'reinvent-aim350/tf'\n",
    "\n",
    "traindata_s3_prefix = '{}/data/train'.format(s3_prefix)\n",
    "testdata_s3_prefix = '{}/data/test'.format(s3_prefix)\n",
    "output_s3 = 's3://{}/{}/models/'.format(s3_bucket, s3_prefix)\n",
    "code_location_s3 = 's3://{}/{}/codes'.format(s3_bucket, s3_prefix)"
   ]
  },
  {
   "cell_type": "markdown",
   "metadata": {},
   "source": [
    "### Upload training and testing files to S3 bucket"
   ]
  },
  {
   "cell_type": "code",
   "execution_count": 4,
   "metadata": {},
   "outputs": [
    {
     "name": "stdout",
     "output_type": "stream",
     "text": [
      "{'training': 's3://mh-s3-icn-sagemaker/reinvent-aim350/tf/data/train', 'testing': 's3://mh-s3-icn-sagemaker/reinvent-aim350/tf/data/test'}\n"
     ]
    }
   ],
   "source": [
    "train_s3 = sagemaker_session.upload_data(path='./data/train/', bucket=s3_bucket, key_prefix=traindata_s3_prefix)\n",
    "test_s3 = sagemaker_session.upload_data(path='./data/test/', bucket=s3_bucket, key_prefix=testdata_s3_prefix)\n",
    "\n",
    "inputs = {'training':train_s3, 'testing': test_s3}\n",
    "\n",
    "print(inputs)"
   ]
  },
  {
   "cell_type": "code",
   "execution_count": 5,
   "metadata": {},
   "outputs": [
    {
     "name": "stdout",
     "output_type": "stream",
     "text": [
      "2018-11-24 14:04:49       2483 reinvent-aim350/tf/codes/tf-scriptmode-mnist-2018-11-24-14-04-48-455/source/sourcedir.tar.gz\r\n",
      "2018-11-24 14:09:28   62720128 reinvent-aim350/tf/data/test/x_test.npy\r\n",
      "2018-11-24 14:09:28      10128 reinvent-aim350/tf/data/test/y_test.npy\r\n",
      "2018-11-24 14:09:24  376320128 reinvent-aim350/tf/data/train/x_train.npy\r\n",
      "2018-11-24 14:09:24      60128 reinvent-aim350/tf/data/train/y_train.npy\r\n",
      "2018-11-24 14:07:22    4141248 reinvent-aim350/tf/models/tf-scriptmode-mnist-2018-11-24-14-04-48-455/output/model.tar.gz\r\n"
     ]
    }
   ],
   "source": [
    "!aws s3 ls s3://mh-s3-icn-sagemaker/reinvent-aim350/tf --recursive --summary"
   ]
  },
  {
   "cell_type": "markdown",
   "metadata": {},
   "source": [
    "### Define Hyperparameters"
   ]
  },
  {
   "cell_type": "code",
   "execution_count": 6,
   "metadata": {},
   "outputs": [],
   "source": [
    "hyperparameters = {'epochs': 1}"
   ]
  },
  {
   "cell_type": "markdown",
   "metadata": {},
   "source": [
    "### Define SageMaker TensorFlow Estimator\n",
    "\n",
    "There are some arguments to be noted;\n",
    "\n",
    "* **script_mode (bool)**: If set to True will the estimator will use the Script Mode containers (default: False). This will be ignored if py_version is set to 'py3'.\n",
    "\n",
    "* **model_dir (str)**: S3 location where the checkpoint data and models can be exported to during training (default: None). If not specified a default S3 URI will be generated. It will be passed in the training script as one of the command line arguments."
   ]
  },
  {
   "cell_type": "code",
   "execution_count": 7,
   "metadata": {},
   "outputs": [],
   "source": [
    "estimator = TensorFlow(entry_point='tf_mnist_train_sagemaker.py',\n",
    "                       source_dir='./tf-src',\n",
    "                       role=role,\n",
    "#                        training_steps=1,\n",
    "#                        evaluation_steps=1,\n",
    "                       train_instance_count=1,\n",
    "                       train_instance_type='ml.c4.2xlarge',\n",
    "                       hyperparameters=hyperparameters,\n",
    "                       framework_version='1.11',\n",
    "                       py_version='py3',\n",
    "                       output_path=output_s3,\n",
    "                       code_location=code_location_s3,\n",
    "                       base_job_name='tf-scriptmode-mnist'\n",
    "#                        requirements_file='./requirements.txt'\n",
    "                      )"
   ]
  },
  {
   "cell_type": "markdown",
   "metadata": {},
   "source": [
    "Amazon SageMaker runs the specified TensorFlow training script using the below command:\n",
    "\n",
    "```\n",
    "/usr/bin/python tf_mnist_train_sagemaker.py --epochs 1 --model_dir s3://sagemaker-ap-northeast-2-850550765017/sagemaker-tensorflow-scriptmode-2018-11-24-09-13-09-790/model\n",
    "```"
   ]
  },
  {
   "cell_type": "code",
   "execution_count": 8,
   "metadata": {
    "scrolled": false
   },
   "outputs": [
    {
     "name": "stderr",
     "output_type": "stream",
     "text": [
      "INFO:sagemaker:Creating training-job with name: tf-scriptmode-mnist-2018-11-24-14-09-28-777\n"
     ]
    },
    {
     "name": "stdout",
     "output_type": "stream",
     "text": [
      "2018-11-24 14:09:28 Starting - Starting the training job...\n",
      "2018-11-24 14:09:51 Starting - Launching requested ML instances......\n",
      "2018-11-24 14:10:49 Starting - Preparing the instances for training......\n",
      "2018-11-24 14:11:49 Downloading - Downloading input data\n",
      "2018-11-24 14:11:49 Training - Training image download completed. Training in progress.\n",
      "\u001b[31m2018-11-24 14:11:49,362 sagemaker-containers INFO     Imported framework sagemaker_tensorflow_container.training\u001b[0m\n",
      "\u001b[31m2018-11-24 14:11:49,364 sagemaker-containers INFO     No GPUs detected (normal if no gpus installed)\u001b[0m\n",
      "\u001b[31m2018-11-24 14:11:49,690 sagemaker-containers INFO     No GPUs detected (normal if no gpus installed)\u001b[0m\n",
      "\u001b[31m2018-11-24 14:11:49,701 sagemaker-containers INFO     Invoking user script\n",
      "\u001b[0m\n",
      "\u001b[31mTraining Env:\n",
      "\u001b[0m\n",
      "\u001b[31m{\n",
      "    \"additional_framework_parameters\": {},\n",
      "    \"channel_input_dirs\": {\n",
      "        \"testing\": \"/opt/ml/input/data/testing\",\n",
      "        \"training\": \"/opt/ml/input/data/training\"\n",
      "    },\n",
      "    \"current_host\": \"algo-1\",\n",
      "    \"framework_module\": \"sagemaker_tensorflow_container.training:main\",\n",
      "    \"hosts\": [\n",
      "        \"algo-1\"\n",
      "    ],\n",
      "    \"hyperparameters\": {\n",
      "        \"model_dir\": \"s3://mh-s3-icn-sagemaker/reinvent-aim350/tf/models/tf-scriptmode-mnist-2018-11-24-14-09-28-777/model\",\n",
      "        \"epochs\": 1\n",
      "    },\n",
      "    \"input_config_dir\": \"/opt/ml/input/config\",\n",
      "    \"input_data_config\": {\n",
      "        \"testing\": {\n",
      "            \"TrainingInputMode\": \"File\",\n",
      "            \"S3DistributionType\": \"FullyReplicated\",\n",
      "            \"RecordWrapperType\": \"None\"\n",
      "        },\n",
      "        \"training\": {\n",
      "            \"TrainingInputMode\": \"File\",\n",
      "            \"S3DistributionType\": \"FullyReplicated\",\n",
      "            \"RecordWrapperType\": \"None\"\n",
      "        }\n",
      "    },\n",
      "    \"input_dir\": \"/opt/ml/input\",\n",
      "    \"job_name\": \"tf-scriptmode-mnist-2018-11-24-14-09-28-777\",\n",
      "    \"log_level\": 20,\n",
      "    \"model_dir\": \"/opt/ml/model\",\n",
      "    \"module_dir\": \"s3://mh-s3-icn-sagemaker/reinvent-aim350/tf/codes/tf-scriptmode-mnist-2018-11-24-14-09-28-777/source/sourcedir.tar.gz\",\n",
      "    \"module_name\": \"tf_mnist_train_sagemaker\",\n",
      "    \"network_interface_name\": \"ethwe\",\n",
      "    \"num_cpus\": 8,\n",
      "    \"num_gpus\": 0,\n",
      "    \"output_data_dir\": \"/opt/ml/output/data\",\n",
      "    \"output_dir\": \"/opt/ml/output\",\n",
      "    \"resource_config\": {\n",
      "        \"current_host\": \"algo-1\",\n",
      "        \"hosts\": [\n",
      "            \"algo-1\"\n",
      "        ],\n",
      "        \"network_interface_name\": \"ethwe\"\n",
      "    },\n",
      "    \"user_entry_point\": \"tf_mnist_train_sagemaker.py\"\u001b[0m\n",
      "\u001b[31m}\n",
      "\u001b[0m\n",
      "\u001b[31mEnvironment variables:\n",
      "\u001b[0m\n",
      "\u001b[31mSM_HOSTS=[\"algo-1\"]\u001b[0m\n",
      "\u001b[31mSM_NETWORK_INTERFACE_NAME=ethwe\u001b[0m\n",
      "\u001b[31mSM_HPS={\"epochs\":1,\"model_dir\":\"s3://mh-s3-icn-sagemaker/reinvent-aim350/tf/models/tf-scriptmode-mnist-2018-11-24-14-09-28-777/model\"}\u001b[0m\n",
      "\u001b[31mSM_USER_ENTRY_POINT=tf_mnist_train_sagemaker.py\u001b[0m\n",
      "\u001b[31mSM_FRAMEWORK_PARAMS={}\u001b[0m\n",
      "\u001b[31mSM_RESOURCE_CONFIG={\"current_host\":\"algo-1\",\"hosts\":[\"algo-1\"],\"network_interface_name\":\"ethwe\"}\u001b[0m\n",
      "\u001b[31mSM_INPUT_DATA_CONFIG={\"testing\":{\"RecordWrapperType\":\"None\",\"S3DistributionType\":\"FullyReplicated\",\"TrainingInputMode\":\"File\"},\"training\":{\"RecordWrapperType\":\"None\",\"S3DistributionType\":\"FullyReplicated\",\"TrainingInputMode\":\"File\"}}\u001b[0m\n",
      "\u001b[31mSM_OUTPUT_DATA_DIR=/opt/ml/output/data\u001b[0m\n",
      "\u001b[31mSM_CHANNELS=[\"testing\",\"training\"]\u001b[0m\n",
      "\u001b[31mSM_CURRENT_HOST=algo-1\u001b[0m\n",
      "\u001b[31mSM_MODULE_NAME=tf_mnist_train_sagemaker\u001b[0m\n",
      "\u001b[31mSM_LOG_LEVEL=20\u001b[0m\n",
      "\u001b[31mSM_FRAMEWORK_MODULE=sagemaker_tensorflow_container.training:main\u001b[0m\n",
      "\u001b[31mSM_INPUT_DIR=/opt/ml/input\u001b[0m\n",
      "\u001b[31mSM_INPUT_CONFIG_DIR=/opt/ml/input/config\u001b[0m\n",
      "\u001b[31mSM_OUTPUT_DIR=/opt/ml/output\u001b[0m\n",
      "\u001b[31mSM_NUM_CPUS=8\u001b[0m\n",
      "\u001b[31mSM_NUM_GPUS=0\u001b[0m\n",
      "\u001b[31mSM_MODEL_DIR=/opt/ml/model\u001b[0m\n",
      "\u001b[31mSM_MODULE_DIR=s3://mh-s3-icn-sagemaker/reinvent-aim350/tf/codes/tf-scriptmode-mnist-2018-11-24-14-09-28-777/source/sourcedir.tar.gz\u001b[0m\n",
      "\u001b[31mSM_TRAINING_ENV={\"additional_framework_parameters\":{},\"channel_input_dirs\":{\"testing\":\"/opt/ml/input/data/testing\",\"training\":\"/opt/ml/input/data/training\"},\"current_host\":\"algo-1\",\"framework_module\":\"sagemaker_tensorflow_container.training:main\",\"hosts\":[\"algo-1\"],\"hyperparameters\":{\"epochs\":1,\"model_dir\":\"s3://mh-s3-icn-sagemaker/reinvent-aim350/tf/models/tf-scriptmode-mnist-2018-11-24-14-09-28-777/model\"},\"input_config_dir\":\"/opt/ml/input/config\",\"input_data_config\":{\"testing\":{\"RecordWrapperType\":\"None\",\"S3DistributionType\":\"FullyReplicated\",\"TrainingInputMode\":\"File\"},\"training\":{\"RecordWrapperType\":\"None\",\"S3DistributionType\":\"FullyReplicated\",\"TrainingInputMode\":\"File\"}},\"input_dir\":\"/opt/ml/input\",\"job_name\":\"tf-scriptmode-mnist-2018-11-24-14-09-28-777\",\"log_level\":20,\"model_dir\":\"/opt/ml/model\",\"module_dir\":\"s3://mh-s3-icn-sagemaker/reinvent-aim350/tf/codes/tf-scriptmode-mnist-2018-11-24-14-09-28-777/source/sourcedir.tar.gz\",\"module_name\":\"tf_mnist_train_sagemaker\",\"network_interface_name\":\"ethwe\",\"num_cpus\":8,\"num_gpus\":0,\"output_data_dir\":\"/opt/ml/output/data\",\"output_dir\":\"/opt/ml/output\",\"resource_config\":{\"current_host\":\"algo-1\",\"hosts\":[\"algo-1\"],\"network_interface_name\":\"ethwe\"},\"user_entry_point\":\"tf_mnist_train_sagemaker.py\"}\u001b[0m\n",
      "\u001b[31mSM_USER_ARGS=[\"--epochs\",\"1\",\"--model_dir\",\"s3://mh-s3-icn-sagemaker/reinvent-aim350/tf/models/tf-scriptmode-mnist-2018-11-24-14-09-28-777/model\"]\u001b[0m\n",
      "\u001b[31mSM_CHANNEL_TESTING=/opt/ml/input/data/testing\u001b[0m\n",
      "\u001b[31mSM_CHANNEL_TRAINING=/opt/ml/input/data/training\u001b[0m\n",
      "\u001b[31mSM_HP_MODEL_DIR=s3://mh-s3-icn-sagemaker/reinvent-aim350/tf/models/tf-scriptmode-mnist-2018-11-24-14-09-28-777/model\u001b[0m\n",
      "\u001b[31mSM_HP_EPOCHS=1\u001b[0m\n",
      "\u001b[31mPYTHONPATH=/opt/ml/code:/usr/local/bin:/usr/lib/python36.zip:/usr/lib/python3.6:/usr/lib/python3.6/lib-dynload:/usr/local/lib/python3.6/dist-packages:/usr/lib/python3/dist-packages\n",
      "\u001b[0m\n",
      "\u001b[31mInvoking script with the following command:\n",
      "\u001b[0m\n",
      "\u001b[31m/usr/bin/python tf_mnist_train_sagemaker.py --epochs 1 --model_dir s3://mh-s3-icn-sagemaker/reinvent-aim350/tf/models/tf-scriptmode-mnist-2018-11-24-14-09-28-777/model\n",
      "\n",
      "\u001b[0m\n",
      "\u001b[31mNamespace(epochs=1, model_dir='/opt/ml/model', output_data_dir='/opt/ml/output/data', test='/opt/ml/input/data/testing', train='/opt/ml/input/data/training')\u001b[0m\n",
      "\u001b[31mEpoch 1/1\u001b[0m\n",
      "\u001b[31m - 10s - loss: 0.2208 - acc: 0.9345\u001b[0m\n",
      "\u001b[31m------ save model to /opt/ml/model/my_model.h5\u001b[0m\n",
      "\u001b[31m2018-11-24 14:12:03,799 sagemaker-containers INFO     Reporting training SUCCESS\u001b[0m\n",
      "\n",
      "2018-11-24 14:12:10 Uploading - Uploading generated training model\n",
      "2018-11-24 14:12:10 Completed - Training job completed\n",
      "Billable seconds: 36\n",
      "CPU times: user 381 ms, sys: 0 ns, total: 381 ms\n",
      "Wall time: 3min 11s\n"
     ]
    }
   ],
   "source": [
    "%%time\n",
    "\n",
    "estimator.fit(inputs)"
   ]
  },
  {
   "cell_type": "code",
   "execution_count": 9,
   "metadata": {},
   "outputs": [
    {
     "name": "stdout",
     "output_type": "stream",
     "text": [
      "2018-11-24 14:04:49       2483 reinvent-aim350/tf/codes/tf-scriptmode-mnist-2018-11-24-14-04-48-455/source/sourcedir.tar.gz\r\n",
      "2018-11-24 14:09:29       2485 reinvent-aim350/tf/codes/tf-scriptmode-mnist-2018-11-24-14-09-28-777/source/sourcedir.tar.gz\r\n",
      "2018-11-24 14:09:28   62720128 reinvent-aim350/tf/data/test/x_test.npy\r\n",
      "2018-11-24 14:09:28      10128 reinvent-aim350/tf/data/test/y_test.npy\r\n",
      "2018-11-24 14:09:24  376320128 reinvent-aim350/tf/data/train/x_train.npy\r\n",
      "2018-11-24 14:09:24      60128 reinvent-aim350/tf/data/train/y_train.npy\r\n",
      "2018-11-24 14:07:22    4141248 reinvent-aim350/tf/models/tf-scriptmode-mnist-2018-11-24-14-04-48-455/output/model.tar.gz\r\n",
      "2018-11-24 14:12:08    4145134 reinvent-aim350/tf/models/tf-scriptmode-mnist-2018-11-24-14-09-28-777/output/model.tar.gz\r\n"
     ]
    }
   ],
   "source": [
    "!aws s3 ls --recursive s3://mh-s3-icn-sagemaker/reinvent-aim350/tf/"
   ]
  },
  {
   "cell_type": "code",
   "execution_count": 10,
   "metadata": {},
   "outputs": [],
   "source": [
    "# estimator?"
   ]
  },
  {
   "cell_type": "code",
   "execution_count": 11,
   "metadata": {},
   "outputs": [],
   "source": [
    "# sagemaker.estimator.Framework?"
   ]
  },
  {
   "cell_type": "markdown",
   "metadata": {},
   "source": [
    "## Automatic Model Tuning"
   ]
  },
  {
   "cell_type": "code",
   "execution_count": 12,
   "metadata": {},
   "outputs": [],
   "source": [
    "from sagemaker.tuner import IntegerParameter, CategoricalParameter, ContinuousParameter, HyperparameterTuner"
   ]
  },
  {
   "cell_type": "code",
   "execution_count": 13,
   "metadata": {},
   "outputs": [],
   "source": [
    "hyperparameter_ranges = {\n",
    "        'learning_rate': ContinuousParameter(0.001, 0.2),\n",
    "        'dropout': ContinuousParameter(0.0, 0.4),\n",
    "        'weighted': ContinuousParameter(2, 6),\n",
    "    }\n",
    "\n",
    "metric_definitions = [{'Name': 'loss',\n",
    "                       'Regex': ' loss: ([0-9\\\\.]+)'},\n",
    "                     {'Name': 'val_loss',\n",
    "                       'Regex': ' val_loss: ([0-9\\\\.]+)'},\n",
    "                     {'Name': 'acc',\n",
    "                       'Regex': ' acc: ([0-9\\\\.]+)'},\n",
    "                     {'Name': 'val_acc',\n",
    "                       'Regex': ' val_acc: ([0-9\\\\.]+)'},\n",
    "\n",
    "objective_metric_name = 'loss'\n",
    "objective_type = 'Minimize'"
   ]
  },
  {
   "cell_type": "code",
   "execution_count": null,
   "metadata": {},
   "outputs": [],
   "source": [
    "tuner = HyperparameterTuner(estimator,\n",
    "                            objective_metric_name,\n",
    "                            hyperparameter_ranges,\n",
    "                            metric_definitions,\n",
    "                            max_jobs=100,\n",
    "                            max_parallel_jobs=4,\n",
    "                            objective_type=objective_type,\n",
    "                            base_tuning_job_name='tf-tuning')\n",
    "\n",
    "tuner.fit(inputs)"
   ]
  }
 ],
 "metadata": {
  "kernelspec": {
   "display_name": "conda_tensorflow_p36",
   "language": "python",
   "name": "conda_tensorflow_p36"
  },
  "language_info": {
   "codemirror_mode": {
    "name": "ipython",
    "version": 3
   },
   "file_extension": ".py",
   "mimetype": "text/x-python",
   "name": "python",
   "nbconvert_exporter": "python",
   "pygments_lexer": "ipython3",
   "version": "3.6.5"
  }
 },
 "nbformat": 4,
 "nbformat_minor": 2
}
