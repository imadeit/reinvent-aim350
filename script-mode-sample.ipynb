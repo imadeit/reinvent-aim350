{
 "cells": [
  {
   "cell_type": "code",
   "execution_count": null,
   "metadata": {},
   "outputs": [],
   "source": [
    "from sagemaker.mxnet import MXNet\n",
    "\n",
    "mxnet_estimator = MXNet(\n",
    "                    entry_point='mxnet_train.py', \n",
    "                    source_dir='./src',\n",
    "                    role='SageMakerRole',\n",
    "                    train_instance_count=1,\n",
    "                    train_instance_type='local',\n",
    "                    hyperparameters={'epochs': 1},\n",
    "                    framework_version='1.3'\n",
    "                    )\n",
    "\n",
    "mxnet_estimator.fit({'train': 's3://bucket-name/train'})"
   ]
  },
  {
   "cell_type": "code",
   "execution_count": null,
   "metadata": {},
   "outputs": [],
   "source": [
    "from sagemaker.tensorflow import TensorFlow\n",
    "\n",
    "tf_estimator = TensorFlow(entry_point='sm_mnist.py',\n",
    "                       role='SageMakerRole',\n",
    "                       training_steps=1,\n",
    "                       evaluation_steps=1,\n",
    "                       train_instance_count=1,\n",
    "                       train_instance_type='ml.c4.xlarge',\n",
    "                       framework_version='1.11',\n",
    "                       py_version='py3'\n",
    "                      )\n",
    "\n",
    "tf_estimator.fit({'train': 's3://bucket-name/train'})"
   ]
  }
 ],
 "metadata": {
  "kernelspec": {
   "display_name": "Python 2",
   "language": "python",
   "name": "python2"
  },
  "language_info": {
   "codemirror_mode": {
    "name": "ipython",
    "version": 2
   },
   "file_extension": ".py",
   "mimetype": "text/x-python",
   "name": "python",
   "nbconvert_exporter": "python",
   "pygments_lexer": "ipython2",
   "version": "2.7.14"
  }
 },
 "nbformat": 4,
 "nbformat_minor": 2
}
